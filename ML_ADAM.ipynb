{
  "nbformat": 4,
  "nbformat_minor": 0,
  "metadata": {
    "colab": {
      "provenance": [],
      "include_colab_link": true
    },
    "kernelspec": {
      "name": "python3",
      "display_name": "Python 3"
    },
    "language_info": {
      "name": "python"
    }
  },
  "cells": [
    {
      "cell_type": "markdown",
      "metadata": {
        "id": "view-in-github",
        "colab_type": "text"
      },
      "source": [
        "<a href=\"https://colab.research.google.com/github/masasume/H01/blob/main/ML_ADAM.ipynb\" target=\"_parent\"><img src=\"https://colab.research.google.com/assets/colab-badge.svg\" alt=\"Open In Colab\"/></a>"
      ]
    },
    {
      "cell_type": "markdown",
      "source": [
        "Stochastische Optimierung: ADAM\n",
        "\n"
      ],
      "metadata": {
        "id": "mZUExlrZ2zyA"
      }
    },
    {
      "cell_type": "markdown",
      "source": [
        "Links:\n",
        "* https://github.com/mrhashemi/Optimizers/blob/main/adam_bfgs_optimization.ipynb\n",
        "* https://towardsdatascience.com/how-to-implement-an-adam-optimizer-from-scratch-76e7b217f1cc\n",
        "* https://pub.towardsai.net/why-adam-optimizer-should-not-be-the-default-learning-algorithm-a2b8d019eaa0\n",
        "* https://www.deeplearningwizard.com/deep_learning/boosting_models_pytorch/optimizers/#optimization-algorithm-4-adam\n",
        "* https://machinelearningmastery.com/adam-optimization-from-scratch/\n",
        "* https://github.com/theroyakash/Adam\n",
        "* https://youtu.be/6nqV58NA_Ew\n",
        "* https://optimization.cbe.cornell.edu/index.php?title=Adam\n",
        "* https://deepai.org/machine-learning-glossary-and-terms/adam-machine-learning\n",
        "* https://www.google.com/url?sa=t&rct=j&q=&esrc=s&source=web&cd=&ved=2ahUKEwiv3ve_lOf7AhUFG-wKHQZ1D7IQFnoECCkQAQ&url=https%3A%2F%2Farxiv.org%2Fpdf%2F1412.6980&usg=AOvVaw3A1FgD6VpF0vPpG6_b5gbf\n",
        "* https://keras.io/api/optimizers/\n",
        "* https://pythonguides.com/adam-optimizer-pytorch/\n",
        "* https://www.datarobot.com/blog/introduction-to-optimizers/"
      ],
      "metadata": {
        "id": "pmPCDfYTKLo7"
      }
    }
  ]
}